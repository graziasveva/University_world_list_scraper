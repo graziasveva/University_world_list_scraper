{
 "cells": [
  {
   "cell_type": "code",
   "execution_count": 1,
   "id": "a58f41b5",
   "metadata": {},
   "outputs": [],
   "source": [
    "import requests, os, json\n",
    "import pandas as pd\n",
    "from bs4 import BeautifulSoup as bs"
   ]
  },
  {
   "cell_type": "code",
   "execution_count": null,
   "id": "fc3408a2",
   "metadata": {},
   "outputs": [],
   "source": [
    "main_url = \"https://www.4icu.org/reviews/index{}.htm\"\n",
    "to_format = \"https://www.4icu.org/reviews/{}\""
   ]
  },
  {
   "cell_type": "code",
   "execution_count": null,
   "id": "ec1a9152",
   "metadata": {},
   "outputs": [],
   "source": [
    "def name_ranking(tags):\n",
    "    uni = tags.find(\"div\", {\"class\": \"panel panel-default text-center\"})\n",
    "    name = uni.find(\"h1\", {\"itemprop\": \"name\"}).text\n",
    "    rank = uni.find_all(\"tr\", {\"style\": \"vertical-align:bottom\"})\n",
    "    a = {}\n",
    "    for el in rank:\n",
    "        tds = el.find_all(\"td\")\n",
    "        assert len(tds) == 2, ValueError\n",
    "        k,v = tds\n",
    "        k, v = k.text, v.text\n",
    "        a.update({k.replace(\" \",\"_\").strip(): v})\n",
    "    return name, a\n",
    "\n",
    "def identity(tags, url):\n",
    "    \n",
    "    my_list = [\"Name\", \"Acronym\", \"Founded\"]\n",
    "    a = {\"url\":url}\n",
    "    if not tags:\n",
    "        return\n",
    "    \n",
    "    for c in tags.find_all(\"tr\"):\n",
    "        th, td = c.find(\"th\"), c.find(\"td\")\n",
    "        if not th or not td:\n",
    "            continue\n",
    "        elif th and td:\n",
    "            th, td = th.text, td.text\n",
    "            if th in my_list:\n",
    "                a.update({th.lower(): td})\n",
    "    return a\n",
    "\n",
    "def location(tags):\n",
    "    a = {}\n",
    "    t = tags\n",
    "    loc = t.find(\"span\", {\"itemprop\": \"addressLocality\"})\n",
    "    region = t.find(\"span\", {\"itemprop\": \"addressRegion\"})\n",
    "    if loc:\n",
    "        a.update({\"city\": loc.text.strip()})\n",
    "    if region:\n",
    "        a.update({\"region\": region.text.strip()})\n",
    "    \n",
    "    td = t.find(\"td\")\n",
    "    if td:\n",
    "        for s in td.find_all(\"span\"):\n",
    "            s.extract()\n",
    "        a.update({\"state\": td.text.strip()})\n",
    "    return a\n",
    "\n",
    "def size_profile(tags):\n",
    "    \n",
    "    my_list = [\"Student Enrollment\", \"Control Type\", \"Entity Type\"]\n",
    "    a = {}\n",
    "    if not tags:\n",
    "        return\n",
    "    \n",
    "    for c in tags.find_all(\"tr\"):\n",
    "        th, td = c.find(\"th\"), c.find(\"td\")\n",
    "        if not th or not td:\n",
    "            continue\n",
    "        elif th and td:\n",
    "            th, td = th.text, td.text\n",
    "            if th in my_list:\n",
    "                a.update({th.lower().replace(\" \", \"_\").strip(): td.strip()})\n",
    "    return a"
   ]
  },
  {
   "cell_type": "code",
   "execution_count": null,
   "id": "4db49ae4",
   "metadata": {
    "scrolled": true
   },
   "outputs": [],
   "source": [
    "f = main_url.format(2)\n",
    "content = bs(requests.get(f).content, \"lxml\")\n",
    "pages = [c.find(\"a\").get(\"href\") for c in  content.find(\"ul\", {\"class\":\"pagination pagination-sm\"}).find_all(\"li\")]\n",
    "main = {}\n",
    "errors = []\n",
    "\n",
    "for page in pages:\n",
    "    \n",
    "    cc = bs(requests.get(to_format.format(page)).content, \"lxml\")\n",
    "    table = cc.find(\"table\", {\"class\":\"table table-hover text-left\"}).find(\"tbody\")\n",
    "    infos = [c.find(\"a\").get(\"href\").split(\"/\")[-1] for c in table.find_all(\"tr\")]\n",
    "    \n",
    "    my_list = [\"University Identity\", \"University Location\", \"Size and Profile\"]\n",
    "    \n",
    "    for inf in infos: \n",
    "        try:\n",
    "            content = bs(requests.get(to_format.format(inf)).content, \"lxml\")\n",
    "            selected_panels = {}\n",
    "            for panel in content.find_all(\"div\", {\"class\": \"panel panel-default\"}):\n",
    "                title = panel.find(\"div\", {\"class\": \"panel-heading\"})\n",
    "                if title:\n",
    "                    title = title.find(\"h2\").text\n",
    "                    if title in my_list:\n",
    "                        selected_panels.update({title: panel})\n",
    "            name, rank = name_ranking(content)\n",
    "            id_ = identity(selected_panels.get(my_list[0]), to_format.format(inf))\n",
    "            loc = location(selected_panels.get(my_list[1]))\n",
    "            sp = size_profile(selected_panels.get(my_list[2]))\n",
    "\n",
    "\n",
    "            tot = {**id_, **rank, **loc, **sp}\n",
    "            main.update({name.strip(): tot})\n",
    "            print(f\"Successfully updated: {name.strip()}\")\n",
    "        except Exception as e:\n",
    "            errors.append(to_format.format(inf))\n",
    "            print(f\"Error on {to_format.format(inf)}, type: {e}\")\n",
    "            #break"
   ]
  },
  {
   "cell_type": "code",
   "execution_count": null,
   "id": "5b4103a2",
   "metadata": {},
   "outputs": [],
   "source": [
    "with open(\"./universities.json\", \"w\") as f:\\\n",
    "    json.dump(main, f)"
   ]
  },
  {
   "cell_type": "code",
   "execution_count": null,
   "id": "3b96b6a0",
   "metadata": {},
   "outputs": [],
   "source": [
    "df = pd.DataFrame.from_dict(main, orient=\"index\")"
   ]
  },
  {
   "cell_type": "code",
   "execution_count": null,
   "id": "2e2f033f",
   "metadata": {},
   "outputs": [],
   "source": [
    "df[\"main_name\"] = df.index"
   ]
  },
  {
   "cell_type": "code",
   "execution_count": null,
   "id": "ac268d8b",
   "metadata": {},
   "outputs": [],
   "source": [
    "df.reset_index(drop=True, inplace=True)"
   ]
  },
  {
   "cell_type": "code",
   "execution_count": null,
   "id": "f966caaa",
   "metadata": {},
   "outputs": [],
   "source": [
    "df.to_csv(\"./universities.csv\", index=False)"
   ]
  }
 ],
 "metadata": {
  "kernelspec": {
   "display_name": "piccola_alpachetta",
   "language": "python",
   "name": "piccola_alpachetta"
  },
  "language_info": {
   "codemirror_mode": {
    "name": "ipython",
    "version": 3
   },
   "file_extension": ".py",
   "mimetype": "text/x-python",
   "name": "python",
   "nbconvert_exporter": "python",
   "pygments_lexer": "ipython3",
   "version": "3.9.7"
  }
 },
 "nbformat": 4,
 "nbformat_minor": 5
}
